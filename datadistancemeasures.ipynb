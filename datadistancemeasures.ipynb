{
  "nbformat": 4,
  "nbformat_minor": 0,
  "metadata": {
    "colab": {
      "provenance": [],
      "authorship_tag": "ABX9TyMEYApOCPE8cGCfH8BYyukY",
      "include_colab_link": true
    },
    "kernelspec": {
      "name": "python3",
      "display_name": "Python 3"
    },
    "language_info": {
      "name": "python"
    }
  },
  "cells": [
    {
      "cell_type": "markdown",
      "metadata": {
        "id": "view-in-github",
        "colab_type": "text"
      },
      "source": [
        "<a href=\"https://colab.research.google.com/github/reva7899/Iris-Data-Distance-Measures/blob/main/datadistancemeasures.ipynb\" target=\"_parent\"><img src=\"https://colab.research.google.com/assets/colab-badge.svg\" alt=\"Open In Colab\"/></a>"
      ]
    },
    {
      "cell_type": "code",
      "execution_count": 1,
      "metadata": {
        "id": "zOrqetQIqMwy"
      },
      "outputs": [],
      "source": [
        "from math import*\n",
        "from decimal import Decimal\n",
        "import pandas as pd\n",
        "import statsmodels.api as sm\n",
        "import matplotlib.pyplot as plt\n",
        "import numpy as np\n",
        "from scipy import stats as sci\n",
        "import math\n"
      ]
    },
    {
      "cell_type": "code",
      "source": [
        "def root(v,r):\n",
        " r_v=1/float(r)\n",
        " return round(Decimal(v)**\n",
        " Decimal(r_v),3)\n",
        "def minkowski_dist(v1,v2, ord_r):\n",
        " return(root(sum(pow(abs(a-b),ord_r)\n",
        " for a,b in zip(v1,v2)),ord_r))\n",
        "def calculate_t_stat(X,Y):\n",
        "#Calculation of mean1\n",
        " from scipy.stats import alpha\n",
        " mean1=sum(X)/len(X)\n",
        "\n",
        "#Calculation of mean2\n",
        " mean2=sum(Y)/len(Y)\n",
        " se1=sci.sem(X, axis=None, ddof=0)\n",
        " se2=sci.sem(Y, axis=None, ddof=0)\n",
        "\n",
        "#Standard error on the difference between the samples\n",
        " sed=math.sqrt(se1*2.0+se2*2.0)\n",
        "\n",
        "#Calculate the t statistic\n",
        " t_stat=(mean1-mean2)/sed\n",
        "\n",
        " #Degrees of freedom\n",
        " df=len(X)+len(Y)-2\n",
        "\n",
        " #Calculte the critical value\n",
        " cv=sci.t.ppf(1.0-0.5,df)\n",
        "\n",
        " #Calculate the p-value\n",
        " p=(1.0-sci.t.cdf(abs(t_stat),df))*2.0\n",
        " print(\"t=\"+str(t_stat)+\",\\tdf=\"+str(df)+\",\\tcv=\"+str(cv)+\",\\tp=\"+str(p)+\"\\n\")\n",
        "\n",
        "#Input data\n",
        "vector1=[0,7.2,8.2,9.6]\n",
        "vector2=[6.6,4,3.7,5.5]\n",
        "p=3\n"
      ],
      "metadata": {
        "id": "VBq_IM1WqRKp"
      },
      "execution_count": 3,
      "outputs": []
    },
    {
      "cell_type": "code",
      "source": [
        "#Calculation of minkowski_dist\n",
        "print(\"Minkowski_dist=\\t\"+str(minkowski_dist(vector1,vector2,p)))"
      ],
      "metadata": {
        "colab": {
          "base_uri": "https://localhost:8080/"
        },
        "id": "EIMNRcEdqY8G",
        "outputId": "d7bef7b0-a301-413d-a611-262245b7b1d7"
      },
      "execution_count": 4,
      "outputs": [
        {
          "output_type": "stream",
          "name": "stdout",
          "text": [
            "Minkowski_dist=\t7.831\n"
          ]
        }
      ]
    },
    {
      "cell_type": "code",
      "source": [
        "#Calculation of t_stat\n",
        "calculate_t_stat(vector1,vector2)"
      ],
      "metadata": {
        "colab": {
          "base_uri": "https://localhost:8080/"
        },
        "id": "vDYSfcpvqjB6",
        "outputId": "368ce022-8684-4df5-9a4f-533ab4a6bd69"
      },
      "execution_count": 5,
      "outputs": [
        {
          "output_type": "stream",
          "name": "stdout",
          "text": [
            "t=0.5885245858923434,\tdf=6,\tcv=6.919082007155017e-17,\tp=0.577646798391219\n",
            "\n"
          ]
        }
      ]
    },
    {
      "cell_type": "code",
      "source": [
        "#Calculation of Mahalanobish distance\n",
        "def mahalano_dist(vector1,vector2,covM):\n",
        " m=np.mean(vector1,axis=0) #Mean of the distribution\n",
        " vector2Mm=vector2-m\n",
        " invCoveM=np.linalg.inv(covM) # To get the inverse covariance matrix\n",
        " np.set_printoptions(suppress=True)\n",
        " tem1=np.dot(vector2Mm,invCoveM)\n",
        " tem2=np.dot(tem1,np.transpose(vector2Mm))\n",
        " MD=np.sqrt(tem2)\n",
        " print(\"The Mahalanobish distance: \",np.reshape(MD,-1))\n",
        "\n",
        "vector1=np.array([[1,100,10],[2,300,15],[4,200,20],[2,600,10],[5,100,3,]])\n",
        "vector2=np.array([[154,900,80]]) #input for vector2\n",
        "vector1_Transpose=np.transpose(vector1)\n",
        "covM=np.cov(vector1_Transpose, bias=False) #To get the covariance matrix\n",
        "mahalano_dist(vector1,vector2,covM)"
      ],
      "metadata": {
        "colab": {
          "base_uri": "https://localhost:8080/"
        },
        "id": "aJwwvE7rqk3j",
        "outputId": "3ca0aa92-3718-45d2-d280-d99ecb39c497"
      },
      "execution_count": 6,
      "outputs": [
        {
          "output_type": "stream",
          "name": "stdout",
          "text": [
            "The Mahalanobish distance:  [101.37049109]\n"
          ]
        }
      ]
    },
    {
      "cell_type": "code",
      "source": [],
      "metadata": {
        "id": "tEi-Ue_0qm0-"
      },
      "execution_count": null,
      "outputs": []
    }
  ]
}